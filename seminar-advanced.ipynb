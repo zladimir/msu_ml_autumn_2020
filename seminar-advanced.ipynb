{
 "cells": [
  {
   "cell_type": "markdown",
   "metadata": {},
   "source": [
    "# Быстро строим деревья"
   ]
  },
  {
   "cell_type": "markdown",
   "metadata": {},
   "source": [
    "\n",
    "Деревья глубины 1 обычно называют решающими пнями. \n",
    "Как Вы думаете, какая сложность построения решающего пня?\n"
   ]
  },
  {
   "cell_type": "markdown",
   "metadata": {},
   "source": [
    "Представим, что мы решаем задачу регрессии, считаем для одного сплита. \n",
    "\n",
    "$$Q = F(R_m) - \\frac{N_l}{N_m} F(R_l) - \\frac{N_r}{N_m} F(R_r) $$\n",
    "\n",
    "$$F(R) = \\frac{1}{N} \\sum_{i=1}^{N}(mean(y) - y_i) ^ 2 $$\n",
    "\n",
    "$$Q = F(R_m) - \\frac{1}{N_m} [ \\sum_{i \\in R_l}(mean(y_l) - y_i) ^ 2  +  \\sum_{i \\in R_r}(mean(y_r) - y_i) ^ 2 ]  $$\n",
    "\n",
    "$F(R_m) и N_m$ от сплита не зависит, можно отбросить. Осталось научиться быстро считать такие выражения:\n",
    "$\\sum_{i \\in R_l}(mean(y_l) - y_i) ^ 2$ для всех порогов. \n",
    "\n",
    "Если делать в лоб, то получится $O(||R||^2)$, нам не нравится, очень долго. Каждый раз пересчитывать довольно глупо, потому что мы точно знаем, какой именно объект при изменении сплита перешел из левой части в правую!\n",
    "\n",
    "\n"
   ]
  },
  {
   "cell_type": "markdown",
   "metadata": {},
   "source": [
    "Воспользуемся формулой для дисперсии:\n",
    "$$D(R) = mean(y ^ 2) -  mean(y) ^ 2 =   \\frac{1}{N} \\sum_{i \\in R} y_i^2 -  \\frac{1}{N ^ 2} (\\sum_{i \\in R} y_i) ^2$$\n",
    "\n",
    "Но у нас не дисперсия, а дисперсия без деления на число объектов, то есть:\n",
    "$$\\sum_{i \\in R_l}(mean(y_l) - y_i) ^ 2 =   \\sum_{i \\in R_k} y_i^2 -  \\frac{1}{N_l} (\\sum_{i \\in R_l} y_i) ^2 $$\n",
    "Аналогично для правого сплита. "
   ]
  },
  {
   "cell_type": "markdown",
   "metadata": {},
   "source": [
    "Вот мы и получили более простой алгоритм подсчета сплита:\n",
    "\n",
    "1) Отсортировали фичу и таргет по фиче\n",
    "\n",
    "2) Сначала считаем, что порог это минимальное значение, то есть левый кусок пустой, правый все значения. Храним для каждой из частей\n",
    "а) Сумму\n",
    "б) Сумму квадратов\n",
    "в) Число объектов\n",
    "\n",
    "3) Взяли следующее значение в отсортированном списке, это значение ушло от правого куска в левое. Обновили а) б) в) в обоих кусках\n",
    "\n",
    "4) Посчитали  для каждого куска б) - а) ** 2 / в), сложили для обоих кусков. Если эта сумма маеньше лучшего значения, то это лучший сплит из текущих\n"
   ]
  },
  {
   "cell_type": "markdown",
   "metadata": {},
   "source": [
    "Реализуйте алгоритм, сравните качество со sklearn.\n",
    "\n",
    "Если получилось одинаково, Вы молодец!!!"
   ]
  },
  {
   "cell_type": "code",
   "execution_count": 76,
   "metadata": {},
   "outputs": [],
   "source": [
    "import warnings\n",
    "warnings.filterwarnings(\"ignore\")"
   ]
  },
  {
   "cell_type": "code",
   "execution_count": 126,
   "metadata": {},
   "outputs": [],
   "source": [
    "def F(a, b, n):\n",
    "    return float(b - a**2)/n\n",
    "\n",
    "def get_threshold(feature, y):\n",
    "    best_thr = None\n",
    "    data = np.hstack((feature.reshape(-1, 1), y.reshape(-1, 1)))\n",
    "    data = data[data[:, 0].argsort()]\n",
    "    best_thr = data[0, 0]\n",
    "    n = data.shape[0]\n",
    "                     \n",
    "    left = data[data[:, 0] < best_thr]\n",
    "                     \n",
    "    left_sum = np.sum(left[:, 1])\n",
    "    left_sqr = left[:, 1] @ left[:, 1]\n",
    "    l_n = left.shape[0]\n",
    "                     \n",
    "    right = data[data[:, 0] >= best_thr]\n",
    "                     \n",
    "    right_sum = np.sum(right[:, 1])\n",
    "    right_sqr = right[:, 1] @ right[:, 1]\n",
    "    r_n = right.shape[0]\n",
    "    \n",
    "    best_F = float('inf')\n",
    "     \n",
    "    for i in range(n-1):\n",
    "        obj = data[i, 0]\n",
    "        target = data[i, 1]\n",
    "        l_n += 1\n",
    "        r_n -= 1\n",
    "        left_sum += target\n",
    "        left_sqr += target**2\n",
    "        right_sum -= target\n",
    "        right_sqr -= target**2\n",
    "        F_l = F(left_sum, left_sqr, l_n)\n",
    "        F_r = F(right_sum, right_sqr, r_n)\n",
    "\n",
    "        if F_l + F_r < best_F:\n",
    "            best_thr = obj\n",
    "            left_mean = float(left_sum)/l_n\n",
    "            right_mean = float(right_sum)/r_n\n",
    "            best_F = F_l + F_r\n",
    "    return best_F, best_thr, left_mean, right_mean\n",
    "\n",
    "\n",
    "def train_stump(X, y):\n",
    "    best_f = None\n",
    "    best_thr = None\n",
    "    best_error = float('inf')\n",
    "    left_mean, right_mean = None, None\n",
    "    for j in range(X.shape[1]):\n",
    "        f_score, f_thr, l_mean, r_mean = get_threshold(X[:, j], y)\n",
    "        if f_score < best_error:\n",
    "            best_error = f_score\n",
    "            best_f = j\n",
    "            best_thr = f_thr\n",
    "            left_mean = l_mean\n",
    "            right_mean = r_mean\n",
    "    return best_f, best_thr, left_mean, right_mean\n",
    "\n",
    "def my_pred(X, best_feat, best_thr, left_mean, right_mean):\n",
    "    y = np.where(X[:, best_feat] < best_thr, left_mean, right_mean)\n",
    "    return y\n",
    "    "
   ]
  },
  {
   "cell_type": "code",
   "execution_count": 127,
   "metadata": {},
   "outputs": [],
   "source": [
    "from sklearn.datasets import load_boston\n",
    "import numpy as np\n",
    "X, y = load_boston(return_X_y=True)"
   ]
  },
  {
   "cell_type": "code",
   "execution_count": 128,
   "metadata": {},
   "outputs": [],
   "source": [
    "best_feat, best_thr, left_mean, right_mean = train_stump(X, y)"
   ]
  },
  {
   "cell_type": "code",
   "execution_count": 129,
   "metadata": {},
   "outputs": [
    {
     "data": {
      "text/plain": [
       "(12, 9.71, 29.729245283018848, 17.34353741496599)"
      ]
     },
     "execution_count": 129,
     "metadata": {},
     "output_type": "execute_result"
    }
   ],
   "source": [
    "best_feat, best_thr, left_mean, right_mean"
   ]
  },
  {
   "cell_type": "code",
   "execution_count": 130,
   "metadata": {},
   "outputs": [
    {
     "name": "stdout",
     "output_type": "stream",
     "text": [
      "0.0\n",
      "46.19909167710848\n",
      "47.23017483291336\n"
     ]
    }
   ],
   "source": [
    "from sklearn.tree import DecisionTreeRegressor\n",
    "from sklearn.metrics import mean_squared_error\n",
    "\n",
    "regressor = DecisionTreeRegressor(random_state=0).fit(X, y)\n",
    "print(mean_squared_error(y, regressor.predict(X)))\n",
    "regressor_stump = DecisionTreeRegressor(random_state=0, max_depth=1).fit(X, y)\n",
    "print(mean_squared_error(y, regressor_stump.predict(X)))\n",
    "\n",
    "print(mean_squared_error(y, my_pred(X, best_feat, best_thr, left_mean, right_mean)))\n"
   ]
  },
  {
   "cell_type": "code",
   "execution_count": null,
   "metadata": {
    "collapsed": true
   },
   "outputs": [],
   "source": []
  }
 ],
 "metadata": {
  "anaconda-cloud": {},
  "kernelspec": {
   "display_name": "Python 3",
   "language": "python",
   "name": "python3"
  },
  "language_info": {
   "codemirror_mode": {
    "name": "ipython",
    "version": 3
   },
   "file_extension": ".py",
   "mimetype": "text/x-python",
   "name": "python",
   "nbconvert_exporter": "python",
   "pygments_lexer": "ipython3",
   "version": "3.6.8"
  }
 },
 "nbformat": 4,
 "nbformat_minor": 2
}
